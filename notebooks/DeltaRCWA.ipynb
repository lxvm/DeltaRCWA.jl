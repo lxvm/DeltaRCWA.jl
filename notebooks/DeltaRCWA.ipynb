{
 "cells": [
  {
   "cell_type": "code",
   "execution_count": null,
   "metadata": {},
   "outputs": [],
   "source": [
    "using Plots, LinearAlgebra, FFTW, DeltaRCWA"
   ]
  },
  {
   "cell_type": "markdown",
   "metadata": {},
   "source": [
    "# Stage by Stage"
   ]
  },
  {
   "cell_type": "markdown",
   "metadata": {},
   "source": [
    "**Input Data**"
   ]
  },
  {
   "cell_type": "markdown",
   "metadata": {},
   "source": [
    "Two layers with thickness d, size L.\n",
    "Assume Gaussian function delta layer\n",
    "z = 0 at the top of layer 1, x = 0 on the left of each cell"
   ]
  },
  {
   "cell_type": "code",
   "execution_count": null,
   "metadata": {},
   "outputs": [],
   "source": [
    "L = 1 # width of cell [arb]\n",
    "λ₀ = 1.2 # incoming light wavelength [units of L]\n",
    "ω₀ = 2*pi/λ₀\n",
    "\n",
    "ϵ₁ = 1 # air in the first layer\n",
    "d₁ = 2 # thickness of first layer [units of L]\n",
    "ϵ₂ = 1 # air in the second layer\n",
    "d₂ = 2 # thickness of second layer [units of L]\n",
    "\n",
    "delta(n) = n == 0\n",
    "f0(x, z) = @. 1+ 5*delta(x-x) * delta(z-d₁) # constant surface dielectric\n",
    "f1(x, z) = @. 1+ exp(-(x-L/2)^2/(2*L^2/16)) * delta(z-d₁) # gaussian function in x\n",
    "\n",
    "nvec = 0:99 # 100 modes"
   ]
  },
  {
   "cell_type": "code",
   "execution_count": null,
   "metadata": {},
   "outputs": [],
   "source": [
    "kₓ = 2*pi*fftfreq(length(nvec), length(nvec)/L) "
   ]
  },
  {
   "cell_type": "code",
   "execution_count": null,
   "metadata": {},
   "outputs": [],
   "source": [
    "#### initial wave\n",
    "xvec = range(0, L, length=length(nvec)+1)[1:length(nvec),]\n",
    "\n",
    "u_p = [mod(n, 3) == 0 ? 1 : 0 for n in nvec] # all even modes set to 1, p is the positive side\n",
    "u_n = [mod(n, 4) == 0 ? 1 : 0 for n in nvec] # all multiples of 3 set to 1, n is the negative side\n",
    "\n",
    "E_in_p = ifft(u_p)\n",
    "E_in_n = ifft(u_n)\n",
    "\n",
    "plot(xvec, abs.(E_in_p))\n",
    "plot!(xvec, abs.(E_in_n))\n",
    "\n"
   ]
  },
  {
   "cell_type": "code",
   "execution_count": null,
   "metadata": {},
   "outputs": [],
   "source": [
    "#### propagate through first layer. (right before boundary)\n",
    "β₁ = @. sqrt(Complex(ω₀^2*ϵ₁ - kₓ^2)) # propagation constant in first layer\n",
    "β₂ = @. sqrt(Complex(ω₀^2*ϵ₂ - kₓ^2)) # propagation constant in second layer\n",
    "\n",
    "u_p = u_p .* exp.(1im*β₁*d₁)\n",
    "u_n = u_n .* exp.(1im*β₂*d₂)\n",
    "\n",
    "E_in_p = ifft(u_p)\n",
    "E_in_n = ifft(u_n)\n",
    "\n",
    "plot(xvec, abs.(E_in_p))\n",
    "plot!(xvec, abs.(E_in_n))"
   ]
  },
  {
   "cell_type": "code",
   "execution_count": null,
   "metadata": {},
   "outputs": [],
   "source": [
    "β₁"
   ]
  },
  {
   "cell_type": "code",
   "execution_count": null,
   "metadata": {},
   "outputs": [],
   "source": [
    "#### Scattering matrix (one mode)\n",
    "k = ω₀\n",
    "βₙ = @. sqrt(Complex(ω₀^2*ϵ₁ - kₓ^2))\n",
    "\n",
    "\n",
    "M = Matrix(Diagonal(repeat([1], length(nvec))*1im))\n",
    "N = Matrix(Diagonal(repeat([6], length(nvec))*1im))\n",
    "\n",
    "A = [-Diagonal(βₙ)-k*M -Diagonal(βₙ)-k*M; -Diagonal(βₙ)-k*N Diagonal(βₙ)+k*N]\n",
    "B = [-Diagonal(βₙ)+k*M -Diagonal(βₙ)+k*M; Diagonal(βₙ)+k*N -Diagonal(βₙ)-k*N]\n",
    "\n",
    "S = A\\B\n"
   ]
  },
  {
   "cell_type": "code",
   "execution_count": null,
   "metadata": {},
   "outputs": [],
   "source": [
    "ip = [findall(isreal, βₙ); findall(isreal, βₙ).+length(βₙ)]\n",
    "Sp = S[ip,ip]"
   ]
  },
  {
   "cell_type": "code",
   "execution_count": null,
   "metadata": {},
   "outputs": [],
   "source": [
    "norm(Sp'Sp-I)/norm(Sp'Sp)"
   ]
  },
  {
   "cell_type": "code",
   "execution_count": null,
   "metadata": {},
   "outputs": [],
   "source": [
    "norm(S'S-I)/norm(S'S)"
   ]
  },
  {
   "cell_type": "code",
   "execution_count": null,
   "metadata": {},
   "outputs": [],
   "source": [
    "#### Scattering matrix (all modes)\n",
    "k = ω₀\n",
    "# M = Matrix(Diagonal(rand(length(nvec))*1im))\n",
    "# N = Matrix(Diagonal(rand(length(nvec))*1im))\n",
    "M = Matrix(Diagonal(repeat([1], length(nvec))*1im))\n",
    "N = Matrix(Diagonal(repeat([6], length(nvec))*1im))\n",
    "A = [-Diagonal(β₁)-k*ifft(fft(M, 2), 1)    -Diagonal(β₁)-k*ifft(fft(M, 2), 1);\n",
    "    -Diagonal(β₁)-k*ifft(fft(N, 2), 1)     Diagonal(β₁)+k*ifft(fft(N, 2), 1)]\n",
    "B = [Diagonal(β₁)+k*ifft(fft(M, 2), 1)    Diagonal(β₁)+k*ifft(fft(M, 2), 1);\n",
    "    Diagonal(β₁)+k*ifft(fft(N, 2), 1)      -Diagonal(β₁)-k*ifft(fft(N, 2), 1)]\n",
    "\n",
    "#     A = [-2*Diagonal(β)-k*ifft(fft(M+N, 2), 1)    -k*ifft(fft(M-N, 2), 1);\n",
    "#         -k*ifft(fft(N-M, 2), 1)                   2*Diagonal(β)+k*ifft(fft(N+M, 2), 1)]\n",
    "#     B = [-2*Diagonal(β)+k*ifft(fft(M+N, 2), 1)    k*ifft(fft(M-N, 2), 1);\n",
    "#         k*ifft(fft(N-M, 2), 1)                  2*Diagonal(β)-k*ifft(fft(N+M, 2), 1)]\n",
    "\n",
    "S = A\\B\n"
   ]
  },
  {
   "cell_type": "code",
   "execution_count": null,
   "metadata": {},
   "outputs": [],
   "source": [
    "norm(S'S-I)/norm(S'S)"
   ]
  },
  {
   "cell_type": "code",
   "execution_count": null,
   "metadata": {},
   "outputs": [],
   "source": [
    "nvec = 0:99\n",
    "M = Matrix(Diagonal(repeat([2], length(nvec))*1im))\n",
    "N = Matrix(Diagonal(repeat([0.5], length(nvec))*1im))\n",
    "\n",
    "# M = Matrix(Diagonal(rand(length(nvec))*10im))\n",
    "# N = Matrix(Diagonal(rand(length(nvec))*1im))\n",
    "\n",
    "# M = Matrix(Diagonal([(n > 45 && n < 75) ? 1 : 0 for n in nvec])*10im)\n",
    "# N = Matrix(Diagonal([(n > 45 && n < 75) ? 1 : 0 for n in nvec])*10im)\n",
    "\n",
    "u_p = [n == 0 ? 1 : 0 for n in nvec]\n",
    "u_n = [n == 0 ? 0 : 0 for n in nvec]\n",
    "\n",
    "# plot(abs.(u_p), label=\"region 1\")\n",
    "# display(plot!(abs.(u_n), label=\"region 2\"))\n",
    "\n",
    "λ_vec = 0.25:1e-2:2\n",
    "N_vec = 0.5:0.1:2\n",
    "T = zeros(0)\n",
    "for λi in λ_vec\n",
    "#     N = Matrix(Diagonal(repeat([Ni], length(nvec))*1im))\n",
    "    Ti, phasei = get_transmissivity_normalincident(M, N, 1, λi, u_p, u_n)\n",
    "    append!(T, Ti)\n",
    "end"
   ]
  },
  {
   "cell_type": "code",
   "execution_count": null,
   "metadata": {},
   "outputs": [],
   "source": [
    "plot(λ_vec, T, ylim=(-0.1, 1.1))"
   ]
  },
  {
   "cell_type": "code",
   "execution_count": null,
   "metadata": {},
   "outputs": [],
   "source": [
    "nvec = 0:2\n",
    "M = Matrix(Diagonal(repeat([1], length(nvec))*0im))\n",
    "N = 4*M\n",
    "\n",
    "u_p = [n == 0 ? 1 : 0 for n in nvec]\n",
    "u_n = [n == 0 ? 0 : 0 for n in nvec]\n",
    "\n",
    "S, β = get_all_modes(M, N, 1, 0.5)\n",
    "u_in = [u_p; u_n]\n",
    "u_out = S*u_in\n",
    "display(β)\n",
    "# display(S)\n",
    "display(u_in)\n",
    "display(u_out)"
   ]
  },
  {
   "cell_type": "markdown",
   "metadata": {},
   "source": [
    "# Debugging"
   ]
  },
  {
   "cell_type": "code",
   "execution_count": null,
   "metadata": {},
   "outputs": [],
   "source": [
    "#### trying to debug (5/6/21)\n",
    "nvec = 0:3\n",
    "λ = 0.25\n",
    "L = 1\n",
    "\n",
    "Y_vec = 0:0.01:10\n",
    "T = zeros(0)\n",
    "for Yi in Y_vec\n",
    "    Y = Matrix(Diagonal(repeat([1], length(nvec))*Yi*(1im)))\n",
    "    # Y = Matrix(Diagonal([0; 1; 2; 3; 2; 1; 0])*1im)\n",
    "\n",
    "    u_p = [n == 0 ? 1 : 0 for n in nvec]\n",
    "    u_n = [n == 0 ? 0 : 0 for n in nvec]\n",
    "\n",
    "    ω₀ = 2*pi/λ\n",
    "    k = ω₀\n",
    "    nvec = 0:length(Y)^0.5-1 # 100 modes\n",
    "    kₓ = 2*pi*fftfreq(length(nvec), length(nvec)/L) \n",
    "    β = @. sqrt(Complex(ω₀^2 - kₓ^2))\n",
    "    # display(β)\n",
    "\n",
    "    A = [Diagonal(β)+0.5*k*ifft(fft(Y, 2), 1)    Diagonal(β)+0.5*k*ifft(fft(Y, 2), 1);\n",
    "        Diagonal(β)+2*k*ifft(fft(Y, 2), 1)     -Diagonal(β)-2*k*ifft(fft(Y, 2), 1)]\n",
    "    B = [Diagonal(β)-0.5*k*ifft(fft(Y, 2), 1)    Diagonal(β)-0.5*k*ifft(fft(Y, 2), 1);\n",
    "        Diagonal(β)-2*k*ifft(fft(Y, 2), 1)      -Diagonal(β)+2*k*ifft(fft(Y, 2), 1)]\n",
    "\n",
    "    S = A\\B\n",
    "    # display(S)\n",
    "\n",
    "    u_in = [u_p; u_n]\n",
    "    u_out = S*u_in\n",
    "\n",
    "    append!(T, abs(u_out[5]))\n",
    "#     println(abs(u_out[5])^2 + abs(u_out[1])^2)\n",
    "end\n",
    "\n",
    "plot(Y_vec, T)"
   ]
  },
  {
   "cell_type": "code",
   "execution_count": null,
   "metadata": {},
   "outputs": [],
   "source": [
    "print(norm(S'S-I)/norm(S'S))\n",
    "display(heatmap(abs.(S'S), yflip=true))\n",
    "display(heatmap(abs.(S), yflip=true))"
   ]
  },
  {
   "cell_type": "code",
   "execution_count": null,
   "metadata": {},
   "outputs": [],
   "source": [
    "nvec = 0:3\n",
    "M = Matrix(Diagonal(repeat([0.1], length(nvec))*1im))\n",
    "N = Matrix(Diagonal(repeat([100], length(nvec))*1im))\n",
    "\n",
    "u_p = [n == 0 ? 1 : 0 for n in nvec]\n",
    "u_n = [n == 0 ? 0 : 0 for n in nvec]\n",
    "\n",
    "# S, β = get_all_modes(M, N, 1, 0.5)\n",
    "L = 1\n",
    "λ = 0.75\n",
    "ω₀ = 2*pi/λ\n",
    "k = ω₀\n",
    "nvec = 0:length(M)^0.5-1 # 100 modes\n",
    "kₓ = 2*pi*fftfreq(length(nvec), length(nvec)/L) \n",
    "β = @. sqrt(Complex(ω₀^2 - kₓ^2))\n",
    "# display(β)\n",
    "\n",
    "A = [-Diagonal(β)-k*ifft(fft(M, 2), 1)    -Diagonal(β)-k*ifft(fft(M, 2), 1);\n",
    "    -Diagonal(β)-k*ifft(fft(N, 2), 1)     Diagonal(β)+k*ifft(fft(N, 2), 1)]\n",
    "B = [-Diagonal(β)+k*ifft(fft(M, 2), 1)    -Diagonal(β)+k*ifft(fft(M, 2), 1);\n",
    "    -Diagonal(β)+k*ifft(fft(N, 2), 1)     Diagonal(β)-k*ifft(fft(N, 2), 1)]\n",
    "S = A\\B\n",
    "# display(S)\n",
    "\n",
    "u_in = [u_p; u_n]\n",
    "u_out = S*u_in\n",
    "display(u_in)\n",
    "display(u_out)\n",
    "println(\"reflection: \", abs(u_out[1])^2)\n",
    "println(\"transmission: \", abs(u_out[5])^2)\n",
    "println(\"energy: \", abs(u_out[1])^2 + abs(u_out[5])^2)"
   ]
  },
  {
   "cell_type": "code",
   "execution_count": null,
   "metadata": {},
   "outputs": [],
   "source": [
    "nvec = 0:3\n",
    "M = Matrix(Diagonal(repeat([2], length(nvec))*1im))\n",
    "N = Matrix(Diagonal(repeat([2], length(nvec))*1im))\n",
    "\n",
    "u_p = [n == 0 ? 1 : 0 for n in nvec]\n",
    "u_n = [n == 0 ? 0 : 0 for n in nvec]\n",
    "\n",
    "# S, β = get_all_modes(M, N, 1, 0.5)\n",
    "L = 1\n",
    "λ = 0.75\n",
    "ω₀ = 2*pi/λ\n",
    "k = ω₀\n",
    "nvec = 0:length(M)^0.5-1 # 100 modes\n",
    "kₓ = 2*pi*fftfreq(length(nvec), length(nvec)/L) \n",
    "β = @. sqrt(Complex(ω₀^2 - kₓ^2))\n",
    "# display(β)\n",
    "\n",
    "T = zeros(0)\n",
    "Nvec = 1:1:100\n",
    "for Ni in Nvec\n",
    "    N = Matrix(Diagonal(repeat([Ni], length(nvec))*1im))\n",
    "    A = [-Diagonal(β)-k*ifft(fft(M, 2), 1)    -Diagonal(β)-k*ifft(fft(M, 2), 1);\n",
    "        -Diagonal(β)-k*ifft(fft(N, 2), 1)     Diagonal(β)+k*ifft(fft(N, 2), 1)]\n",
    "    B = [-Diagonal(β)+k*ifft(fft(M, 2), 1)    -Diagonal(β)+k*ifft(fft(M, 2), 1);\n",
    "        -Diagonal(β)+k*ifft(fft(N, 2), 1)     Diagonal(β)-k*ifft(fft(N, 2), 1)]\n",
    "    S = A\\B\n",
    "    # display(S)\n",
    "\n",
    "    u_in = [u_p; u_n]\n",
    "    u_out = S*u_in\n",
    "#     display(u_in)\n",
    "#     display(u_out)\n",
    "#     println(\"reflection: \", abs(u_out[1]))\n",
    "#     println(\"transmission: \", abs(u_out[5]))\n",
    "#     println(\"energy: \", abs(u_out[1])^2 + abs(u_out[5])^2)\n",
    "    append!(T, abs(u_out[5]))\n",
    "\n",
    "end\n",
    "plot(Nvec, T)"
   ]
  },
  {
   "cell_type": "code",
   "execution_count": null,
   "metadata": {},
   "outputs": [],
   "source": [
    "heatmap(abs.(S'S))"
   ]
  },
  {
   "cell_type": "code",
   "execution_count": null,
   "metadata": {},
   "outputs": [],
   "source": [
    "heatmap(abs.(S))"
   ]
  },
  {
   "cell_type": "code",
   "execution_count": null,
   "metadata": {},
   "outputs": [],
   "source": [
    "#### apply S matrix\n",
    "u_out = S*[uy_p ; uy_n]\n",
    "uy_p = u_out[1:Int(length(u_out)/2)]\n",
    "uy_n = u_out[Int(length(u_out)/2)+1:Int(length(u_out))]\n"
   ]
  },
  {
   "cell_type": "code",
   "execution_count": null,
   "metadata": {},
   "outputs": [],
   "source": [
    "#### right after boundary\n",
    "E_outp = ifft(uy_p)\n",
    "E_outn = ifft(uy_n)\n",
    "\n",
    "# plot(xvec, abs.(E_outp))\n",
    "# plot!(xvec, abs.(E_outn))\n",
    "\n",
    "plot(nvec, abs.(uy_p))\n",
    "plot!(nvec, abs.(uy_n))\n"
   ]
  },
  {
   "cell_type": "code",
   "execution_count": null,
   "metadata": {},
   "outputs": [],
   "source": [
    "#### check conservation of energy\n",
    "abs(dot(conj(E_in_p), E_in_p))\n",
    "abs(dot(conj(E_in_n), E_in_n))\n",
    "\n",
    "abs(dot(conj(E_outp), E_outp))\n",
    "abs(dot(conj(E_outn), E_outn))"
   ]
  },
  {
   "cell_type": "code",
   "execution_count": null,
   "metadata": {},
   "outputs": [],
   "source": [
    "#### propagate through second layer\n",
    "# u_y_p = @. u_y_p * exp(1im * b1 * d1)\n",
    "# u_y_n = @. u_y_n * exp(-1im * b2 * d2)\n",
    "\n",
    "println(u_y_p)\n",
    "println(u_y_n)\n",
    "\n",
    "E_outp = ifft(u_y_p)\n",
    "E_outn = ifft(u_y_n)\n",
    "plot(xvec, abs.(E_outp))\n",
    "# plot(xvec, abs.(E_outn))"
   ]
  },
  {
   "cell_type": "code",
   "execution_count": null,
   "metadata": {},
   "outputs": [],
   "source": [
    "#### OLD Not Needed Anymore OLD ####\n",
    "\n",
    "Nx = 10 # number of discretized points in x\n",
    "\n",
    "h = L/Nx\n",
    "rows = vcat([[i, i, i] for i=1:Nx]...)\n",
    "cols = vcat(vcat([[1,2,3]], [[i-1, i, i+1] for i=2:Nx-1], [Nx.-[2,1,0]])...)\n",
    "vals = repeat([1,-2,1]./h^2, Nx)\n",
    "A = sparse(rows, cols, vals, Nx, Nx) + w0^2*e1*I\n",
    "\n",
    "vals, vecs = eigs(Array(A))\n",
    "\n",
    "print(vals)\n",
    "# print(vecs)"
   ]
  },
  {
   "cell_type": "code",
   "execution_count": null,
   "metadata": {},
   "outputs": [],
   "source": [
    "#### trying to debug (5/19/21)\n",
    "nvec = 0:3\n",
    "ϵ = repeat([1], length(nvec))\n",
    "μ = repeat([1], length(nvec))\n",
    "\n",
    "u_p = [n == 0 ? 1 : 0 for n in nvec]\n",
    "u_n = [n == 0 ? 0 : 0 for n in nvec]\n",
    "\n",
    "# S, β = get_all_modes(M, N, 1, 0.5)\n",
    "L = 1\n",
    "λ = 0.75\n",
    "ω₀ = 2*pi/λ\n",
    "k = ω₀\n",
    "# nvec = 0:length(M)^0.5-1 # 100 modes\n",
    "kₓ = 2*pi*fftfreq(length(nvec), length(nvec)/L) \n",
    "β = @. sqrt(Complex(ω₀^2 - kₓ^2))\n",
    "# display(β)\n",
    "\n",
    "M = 1im*(k*Matrix(Diagonal(ϵ)))/2\n",
    "N = 1im*2/k*Matrix(Diagonal(1 ./μ))\n",
    "\n",
    "A = [-Diagonal(β)-k*ifft(fft(M, 2), 1)    -Diagonal(β)-k*ifft(fft(M, 2), 1);\n",
    "    -Diagonal(β)-k*ifft(fft(N, 2), 1)     Diagonal(β)+k*ifft(fft(N, 2), 1)]\n",
    "B = [-Diagonal(β)+k*ifft(fft(M, 2), 1)    -Diagonal(β)+k*ifft(fft(M, 2), 1);\n",
    "    -Diagonal(β)+k*ifft(fft(N, 2), 1)     Diagonal(β)-k*ifft(fft(N, 2), 1)]\n",
    "S = A\\B\n",
    "\n",
    "u_in = [u_p; u_n]\n",
    "u_out = S*u_in\n",
    "display(u_in)\n",
    "display(u_out)\n",
    "println(\"reflection: \", abs(u_out[1])^2)\n",
    "println(\"transmission: \", abs(u_out[5])^2)\n",
    "println(\"energy: \", abs(u_out[1])^2 + abs(u_out[5])^2)"
   ]
  },
  {
   "cell_type": "code",
   "execution_count": null,
   "metadata": {},
   "outputs": [],
   "source": [
    "#### 5/19/21\n",
    "nvec = 0:99\n",
    "# ϵ = repeat([1e-9], length(nvec)) ## susceptibility\n",
    "μ = repeat([1e-9], length(nvec))\n",
    "ϵ = [(n > 40 && n < 60) ? 1e-9 : 1 for n in nvec]\n",
    "# μ = [(n > 48 && n < 52) ? 1e-9 : 1 for n in nvec]\n",
    "\n",
    "u_p = [n == 0 ? 1 : 0 for n in nvec]\n",
    "u_n = [n == 0 ? 0 : 0 for n in nvec]\n",
    "\n",
    "# S, β = get_all_modes(M, N, 1, 0.5)\n",
    "L = 1\n",
    "λᵥ = 0.1:0.01:2\n",
    "T = zeros(0)\n",
    "for λ in λᵥ\n",
    "    ω₀ = 2*pi/λ\n",
    "    k = ω₀\n",
    "    kₓ = 2*pi*fftfreq(length(nvec), length(nvec)/L)\n",
    "    β = @. sqrt(Complex(ω₀^2 - kₓ^2))\n",
    "    # display(β)\n",
    "\n",
    "    M = 1im*(k*Matrix(Diagonal(ϵ)))/2\n",
    "    N = 1im*2/k*Matrix(Diagonal(1 ./μ))\n",
    "\n",
    "    A = [-Diagonal(β)-k*ifft(fft(M, 2), 1)    -Diagonal(β)-k*ifft(fft(M, 2), 1);\n",
    "        -Diagonal(β)-k*ifft(fft(N, 2), 1)     Diagonal(β)+k*ifft(fft(N, 2), 1)]\n",
    "    B = [-Diagonal(β)+k*ifft(fft(M, 2), 1)    -Diagonal(β)+k*ifft(fft(M, 2), 1);\n",
    "        -Diagonal(β)+k*ifft(fft(N, 2), 1)     Diagonal(β)-k*ifft(fft(N, 2), 1)]\n",
    "    S = A\\B\n",
    "    # display(S)\n",
    "\n",
    "    u_in = [u_p; u_n]\n",
    "    u_out = S*u_in\n",
    "    # display(u_in)\n",
    "    # display(u_out)\n",
    "#     println(\"reflection: \", abs(u_out[1])^2)\n",
    "#     println(\"transmission: \", abs(u_out[5])^2)\n",
    "#     println(\"energy: \", abs(u_out[1])^2 + abs(u_out[5])^2, \"\\n\")\n",
    "    append!(T, abs(u_out[101])^2)\n",
    "end\n",
    "plot(λᵥ, T, xlabel=\"λ/L\", ylabel=\"transmission\")"
   ]
  },
  {
   "cell_type": "markdown",
   "metadata": {},
   "source": [
    "# Checking with Carlos's Solver"
   ]
  },
  {
   "cell_type": "code",
   "execution_count": null,
   "metadata": {},
   "outputs": [],
   "source": [
    "#### Matching Carlos's solver\n",
    "k = 10.0;\n",
    "λ = 2*pi/k;\n",
    "θ = -π/2.0; # incidence angle (measured with respect to the x axis)\n",
    "α = k*cos(θ);\n",
    "β = k*sin(θ);\n",
    "uInc(x,y)= @. exp(1im*α*x+1im*β*y);  # incident planewave\n",
    "\n",
    "θᵗ = -π/8;    # transmitted field angle\n",
    "d  = cos(θᵗ)-cos(θ); \n",
    "L = 2*(2*π)/(k*abs(d));  # Unit cell width\n",
    "M₀(x) = @. -sin(θ)*(1+exp(1im*k*d*x));\n",
    "N₀(x) = @. -sin(θ)*(1-exp(1im*k*d*x));\n",
    "\n",
    "nvec = 0:99;\n",
    "dx = L/length(nvec)\n",
    "xvec = [n*dx-L/2 for n in nvec]\n",
    "kₓ = 2*pi*fftfreq(length(nvec), 1/dx)\n",
    "β = @. sqrt(Complex(k^2 - kₓ^2))\n",
    "\n",
    "u_p = fft(uInc(xvec, 0))/length(nvec)\n",
    "u_n = zeros(length(nvec))\n",
    "M = Matrix(Diagonal(M₀(xvec)))\n",
    "N = Matrix(Diagonal(N₀(xvec)))\n",
    "# display(N)\n",
    "\n",
    "\n",
    "A = [-Diagonal(β)-k*ifft(fft(M, 2), 1)    -Diagonal(β)-k*ifft(fft(M, 2), 1);\n",
    "    -Diagonal(β)-k*ifft(fft(N, 2), 1)     Diagonal(β)+k*ifft(fft(N, 2), 1)]\n",
    "B = [-Diagonal(β)+k*ifft(fft(M, 2), 1)    -Diagonal(β)+k*ifft(fft(M, 2), 1);\n",
    "    -Diagonal(β)+k*ifft(fft(N, 2), 1)     Diagonal(β)-k*ifft(fft(N, 2), 1)]\n",
    "S = A\\B\n",
    "# display(S)\n",
    "\n",
    "u_in = [u_p; u_n]\n",
    "u_out = S*u_in\n",
    "u_out_p = u_out[1:length(nvec)]\n",
    "u_out_n = u_out[length(nvec)+1:2*length(nvec)]\n",
    "display(u_out_p)\n",
    "display(u_out_n)\n",
    "plot(xvec, abs2.(ifft(u_out_p)))\n",
    "plot!(xvec, abs2.(ifft(u_out_n)))"
   ]
  },
  {
   "cell_type": "code",
   "execution_count": null,
   "metadata": {},
   "outputs": [],
   "source": [
    "u_out_p"
   ]
  },
  {
   "cell_type": "code",
   "execution_count": null,
   "metadata": {},
   "outputs": [],
   "source": [
    "xPlot = -L/2:0.001:L/2;\n",
    "\n",
    "paramPlot = plot(xPlot,real.(M₀.(xPlot)))\n",
    "\n",
    "paramPlot = plot!(xPlot,imag.(M₀.(xPlot))) \n",
    "\n",
    "paramPlot = plot!(xPlot,real.(N₀.(xPlot))) \n",
    "\n",
    "paramPlot = plot!(xPlot,imag.(N₀.(xPlot))) \n",
    "\n",
    "plot(paramPlot,lw=3,linestyle=[:solid :dash :solid :dash],label = [\"Re M\" \"Im M\" \"Re N\" \"Im N\"],frame=:box)\n",
    "xlabel!(\"x\");ylabel!(\"M, N\")"
   ]
  },
  {
   "cell_type": "code",
   "execution_count": null,
   "metadata": {},
   "outputs": [],
   "source": [
    "E1(x,z) = sum([u_out_p[n+1]*exp(-1im*kₓ[n+1]*x)*exp(1im*β[n+1]*z) for n in nvec])+sum([u_p[n+1]*exp(-1im*kₓ[n+1]*x)*exp(1im*β[n+1]*z) for n in nvec])\n",
    "E2(x,z) = sum([u_out_n[n+1]*exp(-1im*kₓ[n+1]*x)*exp(-1im*β[n+1]*z) for n in nvec])\n",
    "\n",
    "xview = -L:0.02:L \n",
    "zview = 0:0.01:L\n",
    "zview2 = -L:0.01:0\n",
    "Emat = zeros(Complex{Float64}, 0)\n",
    "Emat2 = zeros(Complex{Float64}, 0)\n",
    "for (z1, z2) in zip(zview, zview2)\n",
    "    append!(Emat, E1.(xview, z1))\n",
    "    append!(Emat2, E2.(xview, z2))\n",
    "end\n",
    "Emat = reshape(Emat,length(xview),:)\n",
    "Emat2 = reshape(Emat2,length(xview),:)\n",
    "# display(Emat)\n",
    "# display(Emat2)\n"
   ]
  },
  {
   "cell_type": "code",
   "execution_count": null,
   "metadata": {},
   "outputs": [],
   "source": [
    "plt1 = heatmap(xview, zview2, transpose(real.(Emat2)))\n",
    "plt1 = heatmap!(xview, zview, transpose(real.(Emat)))\n",
    "display(plt1)\n",
    "plt2 = heatmap(xview, zview2, transpose(imag.(Emat2)))\n",
    "plt2 = heatmap!(xview, zview, transpose(imag.(Emat)))\n",
    "display(plt2)\n",
    "plt3 = heatmap(xview, zview2, transpose(abs2.(Emat2)))\n",
    "plt3 = heatmap!(xview, zview, transpose(abs2.(Emat)))\n",
    "display(plt3)"
   ]
  },
  {
   "cell_type": "code",
   "execution_count": null,
   "metadata": {},
   "outputs": [],
   "source": []
  }
 ],
 "metadata": {
  "kernelspec": {
   "display_name": "Julia 1.5.3",
   "language": "julia",
   "name": "julia-1.5"
  },
  "language_info": {
   "file_extension": ".jl",
   "mimetype": "application/julia",
   "name": "julia",
   "version": "1.5.3"
  },
  "toc": {
   "base_numbering": 1,
   "nav_menu": {},
   "number_sections": true,
   "sideBar": true,
   "skip_h1_title": false,
   "title_cell": "Table of Contents",
   "title_sidebar": "Contents",
   "toc_cell": false,
   "toc_position": {},
   "toc_section_display": true,
   "toc_window_display": true
  }
 },
 "nbformat": 4,
 "nbformat_minor": 4
}
